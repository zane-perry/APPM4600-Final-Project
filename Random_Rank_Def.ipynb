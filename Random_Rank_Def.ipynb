{
 "cells": [
  {
   "cell_type": "code",
   "execution_count": 53,
   "id": "db35d53a-9469-402d-a3bb-d9bbe55731f1",
   "metadata": {},
   "outputs": [],
   "source": [
    "import numpy as np\n",
    "import math\n",
    "import random\n",
    "import numpy.linalg as la\n",
    "from scipy.stats import ortho_group\n",
    "from scipy.linalg import qr"
   ]
  },
  {
   "cell_type": "code",
   "execution_count": 62,
   "id": "bf559ce5-8498-409a-aa94-8dfe25df4bf7",
   "metadata": {},
   "outputs": [],
   "source": [
    "# Randomly make singular values\n",
    "\n",
    "def rand_sing(dim = 5, rank = 3, tol = 10**(-6)):\n",
    "    # randomly generate rank singular values that are larger than the tol\n",
    "    \n",
    "    large_sing = np.zeros(rank)\n",
    "    small_sing = np.zeros(dim - rank)\n",
    "    \n",
    "    for i in range(rank):\n",
    "        large_sing[i] = random.uniform(5, 420)\n",
    "        \n",
    "    for j in range(dim - rank):\n",
    "        small_sing[j] = random.uniform(10**(-16), tol)\n",
    "        \n",
    "    diag = np.append(large_sing, small_sing)\n",
    "    \n",
    "    diag_matrix = np.diag(diag)\n",
    "    \n",
    "    return diag_matrix"
   ]
  },
  {
   "cell_type": "code",
   "execution_count": 63,
   "id": "eac7e1ce-c5fc-491b-b75e-d4cde8762364",
   "metadata": {},
   "outputs": [],
   "source": [
    "# Randomly generate orthonormal matrix\n",
    "\n",
    "def rand_eig_vec(r, m):\n",
    "    H = np.random.randn(m, r)\n",
    "    H = H*10\n",
    "    \n",
    "    Q, R = qr(H)\n",
    "\n",
    "    return Q"
   ]
  },
  {
   "cell_type": "code",
   "execution_count": 69,
   "id": "16f066f6-8d85-4550-8150-3b037e454793",
   "metadata": {},
   "outputs": [],
   "source": [
    "Q, P = rand_eig_vec(7, 5), rand_eig_vec(4, 5)\n",
    "S = rand_sing(dim = 5, rank = 3, tol = 10**(-6))\n",
    "A = Q@S@P"
   ]
  },
  {
   "cell_type": "code",
   "execution_count": 75,
   "id": "99ca14ae-a4fa-4354-9e07-5e2095b87c5c",
   "metadata": {},
   "outputs": [],
   "source": [
    "Q, R, P = qr(A, pivoting = True)"
   ]
  },
  {
   "cell_type": "code",
   "execution_count": 77,
   "id": "717e57ea-2e02-4f71-ae2d-22d9a811ec91",
   "metadata": {},
   "outputs": [
    {
     "data": {
      "text/plain": [
       "array([-3.45116683e+02, -1.90044360e+02, -5.53705501e+01, -1.28985528e-06,\n",
       "        5.84318141e-08])"
      ]
     },
     "execution_count": 77,
     "metadata": {},
     "output_type": "execute_result"
    }
   ],
   "source": [
    "diag_R = np.diag(R)\n",
    "diag_R"
   ]
  }
 ],
 "metadata": {
  "kernelspec": {
   "display_name": "Python 3 (ipykernel)",
   "language": "python",
   "name": "python3"
  },
  "language_info": {
   "codemirror_mode": {
    "name": "ipython",
    "version": 3
   },
   "file_extension": ".py",
   "mimetype": "text/x-python",
   "name": "python",
   "nbconvert_exporter": "python",
   "pygments_lexer": "ipython3",
   "version": "3.9.12"
  }
 },
 "nbformat": 4,
 "nbformat_minor": 5
}
